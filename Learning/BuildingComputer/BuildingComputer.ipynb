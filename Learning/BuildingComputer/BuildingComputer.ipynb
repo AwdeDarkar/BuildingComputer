{
 "cells": [
  {
   "cell_type": "markdown",
   "metadata": {},
   "source": [
    "<h1><a name=\"title\"></a>Building A Computer</h1>\n",
    "<h2>A Logical, Ground-Up, As-Complete-As-We-Like Processor</h2>\n",
    "<div>\n",
    "    <p>This is a collaboration to design and implement a processor and possibly a kernel and operating system in python. While not particularly <i>useful</i> project, I expect it to prove quite helpful in making a lot of my abstract knowledge about these things more concrete while teaching it in a simpler manner than is typical.</p>\n",
    "    <p>The format for this will be as a logbook, and each day will be recorded seperately.</p>\n",
    "</div>\n",
    "<h3>Links</h3>\n",
    "<div>\n",
    "    <ul>\n",
    "        <li><a href=\"#title\">Main</a></li>\n",
    "        <li><a href=\"#day0\">Day 0</a></li>\n",
    "    </ul>\n",
    "</div>\n",
    "<h3>Tasks</h3>\n",
    "<ul>\n",
    "    <li>Basic Logic and Control</li>\n",
    "    <li>ALU\n",
    "        <ul>\n",
    "            <li>Adder</li>\n",
    "            <li>2-complement negater</li>\n",
    "            <li>Bitshift</li>\n",
    "            <li>Bitwise Operators</li>\n",
    "            <li>Multiplier</li>\n",
    "            <li>Divider</li>\n",
    "        </ul>\n",
    "    </li>\n",
    "    <li>Program Control</li>\n",
    "    <li>Memory\n",
    "        <ul>\n",
    "            <li>Stack Pointer</li>\n",
    "            <li>Registers</li>\n",
    "        </ul>\n",
    "    </li>\n",
    "</ul>"
   ]
  },
  {
   "cell_type": "code",
   "execution_count": 15,
   "metadata": {},
   "outputs": [
    {
     "name": "stdout",
     "output_type": "stream",
     "text": [
      "127\n",
      "\u0000 ,./;'[]-=_+{}:\"<>\\|`~!@#$%^&*()?1234567890abcdefghijklmnopqrstuvwxyzABCDEFGHIJKLMNOPQRSTUVWXYZαβγδεζηθικλμνξοπρςστυφχψω\n",
      "\f",
      "\u0007\b\t\u000b",
      "\n"
     ]
    }
   ],
   "source": [
    "#IMPORTS\n",
    "import numpy as np\n",
    "\n",
    "#CONSTANTS\n",
    "BYTE_LEN = 8\n",
    "WORD_LEN = 4 * BYTE_LEN\n",
    "CHARACTER_ENCODE = \"\\0 ,./;'[]-=_+{}:\\\"<>\\\\|`~!@#$%^&*()?\" + \\\n",
    "                   \"1234567890\" + \\\n",
    "                   \"abcdefghijklmnopqrstuvwxyz\" + \\\n",
    "                   \"ABCDEFGHIJKLMNOPQRSTUVWXYZ\" + \\\n",
    "                   \"\\u03b1\\u03b2\\u03b3\\u03b4\\u03b5\" + \\\n",
    "                   \"\\u03b6\\u03b7\\u03b8\\u03b9\\u03ba\" + \\\n",
    "                   \"\\u03bb\\u03bc\\u03bd\\u03be\\u03bf\" + \\\n",
    "                   \"\\u03c0\\u03c1\\u03c2\\u03c3\\u03c4\" + \\\n",
    "                   \"\\u03c5\\u03c6\\u03c7\\u03c8\\u03c9\" + \\\n",
    "                   \"\\n\\f\\a\\b\\t\\v\"\n",
    "\n",
    "#UTILS\n",
    "def to_byte_u(dec):\n",
    "    s = bin(dec)\n",
    "    "
   ]
  }
 ],
 "metadata": {
  "kernelspec": {
   "display_name": "Python 3",
   "language": "python",
   "name": "python3"
  },
  "language_info": {
   "codemirror_mode": {
    "name": "ipython",
    "version": 3
   },
   "file_extension": ".py",
   "mimetype": "text/x-python",
   "name": "python",
   "nbconvert_exporter": "python",
   "pygments_lexer": "ipython3",
   "version": "3.5.2"
  }
 },
 "nbformat": 4,
 "nbformat_minor": 2
}
